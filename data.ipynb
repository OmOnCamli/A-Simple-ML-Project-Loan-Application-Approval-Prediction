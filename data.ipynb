{
 "cells": [
  {
   "cell_type": "markdown",
   "metadata": {},
   "source": [
    "veri seti"
   ]
  },
  {
   "cell_type": "code",
   "execution_count": null,
   "metadata": {},
   "outputs": [],
   "source": [
    "import pandas as pd\n",
    "import numpy as np\n",
    "\n",
    "np.random.seed(42)\n",
    "\n",
    "# Veri seti oluşturma\n",
    "\n",
    "veri_sayisi = 300\n",
    "\n",
    "gelir = np.random.randint(0, 50000, veri_sayisi)  # Aylık gelir\n",
    "gider = np.random.randint(0, 40000, veri_sayisi)  # Aylık gider\n",
    "aylık_borç_ödemesi = np.random.randint(0, 20000, veri_sayisi)  # Borç ödemesi\n",
    "gelir_gider_oranı = np.round((gider / gelir) * 100, 2)  # Gelir/Gider oranı\n",
    "kredi_geçmişi = np.random.choice(['Evet', 'Hayır'], size=veri_sayisi)  # Son 6 ayda gecikme\n",
    "kredi_geçmişi_encoded = np.where(kredi_geçmişi == 'Evet', 0, 1)  # Kodlama: Evet -> 0, Hayır -> 1\n",
    "borç = np.random.randint(0, 100000, veri_sayisi)  # Mevcut borç\n",
    "yaş = np.random.randint(18, 65, veri_sayisi)\n",
    "çalışma_süresi = np.random.randint(0, 30, veri_sayisi)\n",
    "\n",
    "# Kredi durumu için örnek formül\n",
    "kredi_durumu = ((gelir / 1000 - gelir_gider_oranı / 5 + kredi_geçmişi_encoded * 10 - borç / 5000 + çalışma_süresi / 2) > 15).astype(int)\n",
    "\n",
    "# Veri çerçevesini oluşturma\n",
    "df = pd.DataFrame({\n",
    "    'Gelir': gelir,\n",
    "    'Gider': gider,\n",
    "    'Aylık_Borç_Ödemesi': aylık_borç_ödemesi,\n",
    "    'Gelir_Gider_Oranı': gelir_gider_oranı,\n",
    "    'Kredi_Geçmişi': kredi_geçmişi,\n",
    "    'Borç': borç,\n",
    "    'Yaş': yaş,\n",
    "    'Çalışma_Süresi': çalışma_süresi,\n",
    "    'Kredi_Durumu': kredi_durumu\n",
    "})\n",
    "\n",
    "# Veri setini CSV olarak kaydetme\n",
    "df.to_csv('data.csv', index=False)\n",
    "print(\"Veri seti oluşturuldu ve 'data.csv' dosyasına kaydedildi.\")\n"
   ]
  }
 ],
 "metadata": {
  "kernelspec": {
   "display_name": "Python 3",
   "language": "python",
   "name": "python3"
  },
  "language_info": {
   "codemirror_mode": {
    "name": "ipython",
    "version": 3
   },
   "file_extension": ".py",
   "mimetype": "text/x-python",
   "name": "python",
   "nbconvert_exporter": "python",
   "pygments_lexer": "ipython3",
   "version": "3.9.13"
  }
 },
 "nbformat": 4,
 "nbformat_minor": 2
}
