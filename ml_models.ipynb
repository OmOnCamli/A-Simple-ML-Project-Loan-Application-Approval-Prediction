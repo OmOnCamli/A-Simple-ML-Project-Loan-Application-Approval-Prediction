{
 "cells": [
  {
   "cell_type": "markdown",
   "metadata": {},
   "source": [
    "en iyi algoritma"
   ]
  },
  {
   "cell_type": "code",
   "execution_count": null,
   "metadata": {},
   "outputs": [],
   "source": [
    "import pandas as pd\n",
    "from sklearn.model_selection import train_test_split\n",
    "from sklearn.metrics import accuracy_score\n",
    "from sklearn.ensemble import RandomForestClassifier, GradientBoostingClassifier, AdaBoostClassifier\n",
    "from sklearn.tree import DecisionTreeClassifier\n",
    "from sklearn.linear_model import LogisticRegression\n",
    "from sklearn.svm import SVC\n",
    "from sklearn.neighbors import KNeighborsClassifier\n",
    "from sklearn.naive_bayes import GaussianNB\n",
    "from xgboost import XGBClassifier\n",
    "from sklearn.linear_model import RidgeClassifier\n",
    "import joblib\n",
    "\n",
    "# Veri setini yükleme\n",
    "df = pd.read_csv('data.csv')\n",
    "\n",
    "# Kredi geçmişi kategorisini sayısal veriye dönüştürme\n",
    "df['Kredi_Geçmişi'] = df['Kredi_Geçmişi'].apply(lambda x: 0 if x == 'Evet' else 1)\n",
    "\n",
    "# Bağımsız ve bağımlı değişkenlerin ayrılması\n",
    "X = df[['Gelir', 'Gider', 'Aylık_Borç_Ödemesi', 'Gelir_Gider_Oranı', 'Kredi_Geçmişi', 'Borç', 'Yaş', 'Çalışma_Süresi']]\n",
    "y = df['Kredi_Durumu']\n",
    "\n",
    "# Eğitim ve test verilerine bölme\n",
    "X_train, X_test, y_train, y_test = train_test_split(X, y, test_size=0.2, random_state=42)\n",
    "\n",
    "# 10 farklı algoritma\n",
    "modeller = {\n",
    "    \"LogisticRegression\": LogisticRegression(max_iter=1000),\n",
    "    \"DecisionTree\": DecisionTreeClassifier(),\n",
    "    \"RandomForest\": RandomForestClassifier(random_state=42),\n",
    "    \"GradientBoosting\": GradientBoostingClassifier(random_state=42),\n",
    "    \"AdaBoost\": AdaBoostClassifier(random_state=42),\n",
    "    \"SVC\": SVC(),\n",
    "    \"KNN\": KNeighborsClassifier(),\n",
    "    \"NaiveBayes\": GaussianNB(),\n",
    "    \"RidgeClassifier\": RidgeClassifier(),\n",
    "    \"XGBoost\": XGBClassifier(eval_metric='logloss')\n",
    "}\n",
    "\n",
    "# Modelleri eğitme ve değerlendirme\n",
    "sonuçlar = {}\n",
    "for isim, model in modeller.items():\n",
    "    model.fit(X_train, y_train)\n",
    "    y_pred = model.predict(X_test)\n",
    "    accuracy = accuracy_score(y_test, y_pred)\n",
    "    sonuçlar[isim] = accuracy\n",
    "    print(f\"{isim} Accuracy: {accuracy:.4f}\")\n",
    "\n",
    "# En iyi modeli seçme\n",
    "en_iyi_model_ismi = max(sonuçlar, key=sonuçlar.get)\n",
    "en_iyi_model = modeller[en_iyi_model_ismi]\n",
    "\n",
    "print(f\"En iyi model: {en_iyi_model_ismi} - Accuracy: {sonuçlar[en_iyi_model_ismi]:.4f}\")\n",
    "\n",
    "# En iyi modeli kaydetme\n",
    "joblib.dump(en_iyi_model, 'best_ml_model.joblib')\n",
    "print(f\"En iyi model 'best_ml_model.joblib' dosyasına kaydedildi.\")\n"
   ]
  }
 ],
 "metadata": {
  "kernelspec": {
   "display_name": "Python 3",
   "language": "python",
   "name": "python3"
  },
  "language_info": {
   "codemirror_mode": {
    "name": "ipython",
    "version": 3
   },
   "file_extension": ".py",
   "mimetype": "text/x-python",
   "name": "python",
   "nbconvert_exporter": "python",
   "pygments_lexer": "ipython3",
   "version": "3.9.13"
  }
 },
 "nbformat": 4,
 "nbformat_minor": 2
}
